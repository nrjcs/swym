{
  "nbformat": 4,
  "nbformat_minor": 0,
  "metadata": {
    "colab": {
      "name": "swym_own_data.ipynb",
      "version": "0.3.2",
      "provenance": [],
      "collapsed_sections": [],
      "include_colab_link": true
    },
    "kernelspec": {
      "display_name": "Python 2",
      "language": "python",
      "name": "python2"
    }
  },
  "cells": [
    {
      "cell_type": "markdown",
      "metadata": {
        "id": "view-in-github",
        "colab_type": "text"
      },
      "source": [
        "<a href=\"https://colab.research.google.com/github/nrjcs/swym/blob/master/swym_own_data.ipynb\" target=\"_parent\"><img src=\"https://colab.research.google.com/assets/colab-badge.svg\" alt=\"Open In Colab\"/></a>"
      ]
    },
    {
      "metadata": {
        "id": "or5qcqhdDOM0",
        "colab_type": "code",
        "colab": {}
      },
      "cell_type": "code",
      "source": [
        "# import\n",
        "import os;\n",
        "import keras\n",
        "from keras import backend as K\n",
        "from keras.models import Sequential\n",
        "from keras.layers.core import Dense\n",
        "from keras.optimizers import Adam\n",
        "from keras.models import Sequential\n",
        "from keras.layers.core import Dense, Dropout, Activation, Flatten\n",
        "from keras.layers.convolutional import Convolution2D, MaxPooling2D\n",
        "from keras.optimizers import SGD,RMSprop,adam\n",
        "from keras.metrics import categorical_crossentropy\n",
        "import numpy as np\n",
        "from random import randint\n",
        "from sklearn.preprocessing import MinMaxScaler\n",
        "from sklearn.preprocessing import StandardScaler\n",
        "from keras.models import Model\n",
        "from keras.layers import Input\n",
        "import random\n",
        "from sklearn.utils import shuffle\n",
        "from sklearn.model_selection import train_test_split\n",
        "from numpy import *\n",
        "from PIL import Image\n",
        "import matplotlib.pyplot as plt\n",
        "import matplotlib\n",
        "\n",
        "K.set_image_data_format('channels_first') # set format"
      ],
      "execution_count": 0,
      "outputs": []
    },
    {
      "metadata": {
        "id": "W1ZtEfocDOM3",
        "colab_type": "code",
        "colab": {}
      },
      "cell_type": "code",
      "source": [
        "#intialization\n",
        "train_labels=[]\n",
        "train_samples=[]\n"
      ],
      "execution_count": 0,
      "outputs": []
    },
    {
      "metadata": {
        "id": "aGk80apX4d_W",
        "colab_type": "code",
        "colab": {}
      },
      "cell_type": "code",
      "source": [
        "# Load the Drive helper and mount\n",
        "from google.colab import drive\n",
        "# This will prompt for authorization.\n",
        "drive.mount('/content/drive')"
      ],
      "execution_count": 0,
      "outputs": []
    },
    {
      "metadata": {
        "id": "WmNFFTSuDOM6",
        "colab_type": "code",
        "colab": {}
      },
      "cell_type": "code",
      "source": [
        "# initialization\n",
        "img_rows, img_cols=256, 256\n",
        "img_channels=1\n",
        "ip_path='/content/drive/My Drive/img_data/'\n",
        "op_path='/content/drive/My Drive/img_data_updated/'"
      ],
      "execution_count": 0,
      "outputs": []
    },
    {
      "metadata": {
        "id": "AHJe8s_YDOM8",
        "colab_type": "code",
        "colab": {}
      },
      "cell_type": "code",
      "source": [
        "#getting list of images\n",
        "listing=os.listdir(ip_path) #list of the names of the entries in the arg (directory)\n",
        "num_samples=size(listing)\n",
        "print(num_samples)\n"
      ],
      "execution_count": 0,
      "outputs": []
    },
    {
      "metadata": {
        "id": "cAPNp8nLDONA",
        "colab_type": "code",
        "colab": {}
      },
      "cell_type": "code",
      "source": [
        "#image preprocessing...resize...convert to grayscale\n",
        "for file in listing:\n",
        "    im=Image.open(ip_path+'/'+file)\n",
        "    img=im.resize((img_rows,img_cols))\n",
        "    gray=img.convert('L')\n",
        "    gray.save(op_path+'/'+file, \"JPEG\")\n",
        "imlist=os.listdir(op_path)  \n",
        "imlist.sort()"
      ],
      "execution_count": 0,
      "outputs": []
    },
    {
      "metadata": {
        "id": "5leVRPucDONE",
        "colab_type": "code",
        "colab": {}
      },
      "cell_type": "code",
      "source": [
        "# viewing images\n",
        "im1=array(Image.open('/content/drive/My Drive/img_data_updated/'+imlist[0]))\n",
        "print(im1)\n",
        "plt.imshow(im1)\n",
        "#plt.imshow(im1,cmap='gray')\n",
        "print(im1.shape)\n",
        "m,n=im1.shape[0:2]\n",
        "print m,m"
      ],
      "execution_count": 0,
      "outputs": []
    },
    {
      "metadata": {
        "id": "PAh-1zL3DONH",
        "colab_type": "code",
        "colab": {}
      },
      "cell_type": "code",
      "source": [
        "#flatten all the images into one matrix\n",
        "immat=array([array(Image.open('/content/drive/My Drive/img_data_updated/'+imseq)).flatten() \n",
        "           for imseq in imlist],'f')\n",
        "\n",
        "#print immat\n",
        "#print immat.shape"
      ],
      "execution_count": 0,
      "outputs": []
    },
    {
      "metadata": {
        "id": "Qb8GRTzyDONK",
        "colab_type": "code",
        "colab": {}
      },
      "cell_type": "code",
      "source": [
        "# initialize labels\n",
        "labels=np.ones((num_samples),dtype=int)\n",
        "print labels"
      ],
      "execution_count": 0,
      "outputs": []
    },
    {
      "metadata": {
        "id": "Ll11SzTtDONO",
        "colab_type": "code",
        "colab": {}
      },
      "cell_type": "code",
      "source": [
        "#reset labels\n",
        "labels[0:100]=0\n",
        "labels[100:200]=1\n",
        "print labels"
      ],
      "execution_count": 0,
      "outputs": []
    },
    {
      "metadata": {
        "id": "aaANglgADONR",
        "colab_type": "code",
        "colab": {}
      },
      "cell_type": "code",
      "source": [
        "#make sample label pairs\n",
        "data,label=shuffle(immat,labels,random_state=2)\n",
        "for i in range(200):\n",
        "   print data[i],label[i]"
      ],
      "execution_count": 0,
      "outputs": []
    },
    {
      "metadata": {
        "id": "CCxpJhW8DONU",
        "colab_type": "code",
        "colab": {}
      },
      "cell_type": "code",
      "source": [
        "#combine data and labels as single input\n",
        "\n",
        "#this step in not necessary as we can input the data and label as two arrarys\n",
        "train_data=[data,label]\n",
        "#print train_data[0].shape #shape of samples\n",
        "\n",
        "#print train_data[1].shape #shape of labels\n",
        "#print train_data"
      ],
      "execution_count": 0,
      "outputs": []
    },
    {
      "metadata": {
        "id": "VxEmOXMkDONY",
        "colab_type": "code",
        "colab": {}
      },
      "cell_type": "code",
      "source": [
        "#check the images from the flattened matrix\n",
        "check_img=immat[104].reshape(img_rows,img_cols)\n",
        "plt.imshow(check_img)\n",
        "plt.imshow(check_img,cmap='gray')"
      ],
      "execution_count": 0,
      "outputs": []
    },
    {
      "metadata": {
        "id": "hTmXkzlLDONc",
        "colab_type": "code",
        "colab": {}
      },
      "cell_type": "code",
      "source": [
        "#model parameters\n",
        "\n",
        "batch_size=20\n",
        "n_classes=2\n",
        "n_epochs=2\n",
        "img_channels=1 # no. of imagae channels\n",
        "n_filters=32 #no. of conv filters to use\n",
        "n_pool=2  #size of area for max pooling\n",
        "n_conv=3  #size of conv kernel\n",
        "\n",
        "(X,Y)=(train_data[0],train_data[1])  #this is not necessary data can be passed directly as samples and labels\n",
        "print (X,Y)\n"
      ],
      "execution_count": 0,
      "outputs": []
    },
    {
      "metadata": {
        "id": "ACAJzQJ0DONg",
        "colab_type": "code",
        "colab": {}
      },
      "cell_type": "code",
      "source": [
        "# preprocessing\n",
        "X_train, X_test, Y_train, Y_test = train_test_split(X,Y, test_size=0.1, random_state=4)\n",
        "X_train=X_train.reshape(X_train.shape[0],1,img_rows,img_cols)\n",
        "print X_train.shape\n",
        "X_test=X_test.reshape(X_test.shape[0],1,img_rows,img_cols)\n",
        "print X_test.shape\n",
        "\n",
        "X_train/=255\n",
        "X_test/=255\n",
        "\n",
        "# following steps make one hot matrix used by the model to fit data\n",
        "print Y_train.shape   #current shape\n",
        "print Y_test.shape\n",
        "\n",
        "from keras.utils import np_utils\n",
        "Y_train=np_utils.to_categorical(Y_train,n_classes)\n",
        "Y_test=np_utils.to_categorical(Y_test,n_classes)\n",
        "#print Y_train.shape\n",
        "#print Y_test.shape\n",
        "#print Y_test"
      ],
      "execution_count": 0,
      "outputs": []
    },
    {
      "metadata": {
        "id": "qXht7NrkDONp",
        "colab_type": "code",
        "colab": {}
      },
      "cell_type": "code",
      "source": [
        "# test the modifations of data and lables\n",
        "\n",
        "plt.imshow(X_train[170,0],interpolation='nearest',cmap='gray')\n",
        "#print(\"label:\",Y_train[170,:])"
      ],
      "execution_count": 0,
      "outputs": []
    },
    {
      "metadata": {
        "id": "ukC8vXjmDONt",
        "colab_type": "code",
        "colab": {}
      },
      "cell_type": "code",
      "source": [
        "# deifne the model layout\n",
        "model=Sequential()  #type of model\n",
        "\n",
        "#add layers to the model\n",
        "\n",
        "model.add(Convolution2D(n_filters,n_conv,n_conv,border_mode='valid',input_shape=(1,img_rows,img_cols)))\n",
        "convol1=Activation('relu')\n",
        "model.add(convol1)\n",
        "model.add(Convolution2D(n_filters,n_conv,n_conv))\n",
        "convol2=Activation('relu')\n",
        "model.add(convol2)\n",
        "model.add(MaxPooling2D(pool_size=(n_pool,n_pool)))\n",
        "model.add(Dropout(0.1))\n",
        "model.add(Flatten())\n",
        "model.add(Dense(128))\n",
        "model.add(Activation('relu'))\n",
        "model.add(Dropout(0.1))\n",
        "model.add(Dense(n_classes))\n",
        "model.add(Activation('softmax'))\n",
        "\n"
      ],
      "execution_count": 0,
      "outputs": []
    },
    {
      "metadata": {
        "id": "vSTavbiQDONw",
        "colab_type": "code",
        "colab": {}
      },
      "cell_type": "code",
      "source": [
        "# compile the model\n",
        "\n",
        "model.compile(loss='categorical_crossentropy',optimizer='adadelta',metrics=['accuracy'])\n",
        "\n",
        "# print the model summary\n",
        "\n",
        "model.summary()"
      ],
      "execution_count": 0,
      "outputs": []
    },
    {
      "metadata": {
        "id": "mN9bfNJfDON1",
        "colab_type": "code",
        "colab": {}
      },
      "cell_type": "code",
      "source": [
        "# train the model\n",
        "\n",
        "trainin=model.fit(X_train,Y_train,batch_size=batch_size,epochs=n_epochs,verbose=1,validation_data=(X_test,Y_test))"
      ],
      "execution_count": 0,
      "outputs": []
    },
    {
      "metadata": {
        "id": "uKEdH_bmc5nR",
        "colab_type": "code",
        "colab": {}
      },
      "cell_type": "code",
      "source": [
        "score = model.evaluate(X_test, Y_test, verbose=0)\n",
        "print('Test loss:', score[0])\n",
        "print('Test accuracy:', score[1])"
      ],
      "execution_count": 0,
      "outputs": []
    }
  ]
}